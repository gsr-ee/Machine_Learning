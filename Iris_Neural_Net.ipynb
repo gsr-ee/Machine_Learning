{
 "cells": [
  {
   "cell_type": "markdown",
   "metadata": {},
   "source": [
    "Part of this code was referenced from Python Machine Learning, 2nd edition, Raschka,Sebastian et all."
   ]
  },
  {
   "cell_type": "markdown",
   "metadata": {},
   "source": [
    "Part of this code was referenced from Yunjey Pytorch's Tutorials: https://github.com/yunjey/pytorch-tutorial."
   ]
  },
  {
   "cell_type": "code",
   "execution_count": 24,
   "metadata": {},
   "outputs": [],
   "source": [
    "#%% Modules:\n",
    "import torch\n",
    "import torch.nn as nn\n",
    "import pandas as pd\n",
    "import numpy as np\n",
    "import matplotlib.pyplot as plt\n",
    "from torch.utils.data import Dataset, DataLoader\n",
    "from sklearn.model_selection import train_test_split\n",
    "from matplotlib.colors import ListedColormap"
   ]
  },
  {
   "cell_type": "code",
   "execution_count": 3,
   "metadata": {},
   "outputs": [],
   "source": [
    "#%% Preprocessing the data:\n",
    "data = pd.read_csv('https://archive.ics.uci.edu/ml/'\n",
    "                 'machine-learning-databases/iris/iris.data',header=None)\n",
    "\n",
    "X = data.iloc[:,[2,3]].values\n",
    "y = data.iloc[:, 4].values\n",
    "for i in range(len(y)):\n",
    "    if y[i] == 'Iris-setosa':\n",
    "        y[i] = 0\n",
    "    elif y[i] == 'Iris-versicolor':\n",
    "        y[i] = 1\n",
    "    else:\n",
    "        y[i] = 2\n",
    "X_train, X_test, y_train, y_test = train_test_split(X, y, test_size=0.3333, random_state=None, shuffle=True)\n",
    "X_train = pd.DataFrame(X_train,columns=['x','y'])\n",
    "y_train=pd.DataFrame(y_train.transpose(),columns=['label'])\n",
    "train_data=pd.concat([X_train,y_train],1)\n",
    "X_test=pd.DataFrame(X_test,columns=['x','y'])\n",
    "y_test=pd.DataFrame(y_test.transpose(),columns=['label'])\n",
    "test_data=pd.concat([X_test,y_test],1)\n",
    "test_data.to_json('data/test_data.json',orient='index')\n",
    "train_data.to_json('data/train_data.json',orient='index')"
   ]
  },
  {
   "cell_type": "code",
   "execution_count": 4,
   "metadata": {},
   "outputs": [],
   "source": [
    "# Dataset class: \n",
    "class Iris_Dataset(Dataset):\n",
    "    \"Iris dataset: https://archive.ics.uci.edu/ml/datasets/iris \"\n",
    "    def __init__(self,json_file, transform=None):\n",
    "        self.data = pd.read_json(json_file).transpose()\n",
    "        self.transform = transform\n",
    "\n",
    "    def __len__(self):\n",
    "        return len(self.data)\n",
    "\n",
    "    def __getitem__(self, idx):\n",
    "        X=np.array([self.data['x'][idx], self.data['y'][idx]])\n",
    "        label = np.array(self.data['label'][idx])\n",
    "\n",
    "        sample = {'sample': X, 'label': label}\n",
    "\n",
    "        if self.transform:\n",
    "            sample = self.transform(sample)\n",
    "\n",
    "        return sample\n",
    "    \n",
    "class ToTensor(object):\n",
    "    \"\"\"Convert ndarrays in sample to Tensors.\"\"\"\n",
    "\n",
    "    def __call__(self, sample):\n",
    "        X, label = sample['sample'], sample['label']\n",
    "        return (torch.from_numpy(X).float(),\n",
    "                torch.from_numpy(np.array(label)).long())"
   ]
  },
  {
   "cell_type": "code",
   "execution_count": 5,
   "metadata": {},
   "outputs": [],
   "source": [
    "# Hyper-parameters:\n",
    "batch_size=10\n",
    "input_size=2\n",
    "hidden_size=10\n",
    "num_classes=3\n",
    "num_epochs=20\n",
    "learning_rate=0.01"
   ]
  },
  {
   "cell_type": "code",
   "execution_count": 6,
   "metadata": {},
   "outputs": [],
   "source": [
    "device = torch.device('cpu')"
   ]
  },
  {
   "cell_type": "code",
   "execution_count": 7,
   "metadata": {},
   "outputs": [],
   "source": [
    "# Iris dataset:\n",
    "train_set = Iris_Dataset(json_file='data/train_data.json',transform=ToTensor())\n",
    "\n",
    "test_set = Iris_Dataset(json_file='data/test_data.json',transform=ToTensor())"
   ]
  },
  {
   "cell_type": "code",
   "execution_count": 8,
   "metadata": {},
   "outputs": [],
   "source": [
    "# Data Loader:\n",
    "train_loader = DataLoader(dataset=train_set, shuffle=True, batch_size=batch_size,num_workers=4)\n",
    "\n",
    "test_loader = DataLoader(dataset=test_set, shuffle=False, batch_size=batch_size)"
   ]
  },
  {
   "cell_type": "code",
   "execution_count": 9,
   "metadata": {},
   "outputs": [],
   "source": [
    "# Feed-forward Neural Network:\n",
    "class NeuralNet(nn.Module):\n",
    "    def __init__(self,input_size,hidden_size,num_classes):\n",
    "        super(NeuralNet,self).__init__()\n",
    "        self.fc1=nn.Linear(input_size,hidden_size)\n",
    "        self.activation=nn.Sigmoid()\n",
    "        self.fc2=nn.Linear(hidden_size, num_classes)\n",
    "        \n",
    "    def forward(self,x):\n",
    "        out = self.fc1(x)\n",
    "        out = self.activation(out)\n",
    "        out = self.fc2(out)\n",
    "        return out"
   ]
  },
  {
   "cell_type": "code",
   "execution_count": 10,
   "metadata": {},
   "outputs": [],
   "source": [
    "# Neural Net:\n",
    "model = NeuralNet(input_size,hidden_size,num_classes).to(device)"
   ]
  },
  {
   "cell_type": "code",
   "execution_count": 11,
   "metadata": {},
   "outputs": [],
   "source": [
    "# Loss and optimizer\n",
    "criterion = nn.CrossEntropyLoss()\n",
    "optimizer = torch.optim.Adam(model.parameters(), lr=learning_rate)"
   ]
  },
  {
   "cell_type": "code",
   "execution_count": 17,
   "metadata": {},
   "outputs": [
    {
     "name": "stdout",
     "output_type": "stream",
     "text": [
      "Epoch [1/20], Step [10/10], Loss: 0.1296\n",
      "Epoch [2/20], Step [10/10], Loss: 0.2646\n",
      "Epoch [3/20], Step [10/10], Loss: 0.1155\n",
      "Epoch [4/20], Step [10/10], Loss: 0.1768\n",
      "Epoch [5/20], Step [10/10], Loss: 0.2553\n",
      "Epoch [6/20], Step [10/10], Loss: 0.2414\n",
      "Epoch [7/20], Step [10/10], Loss: 0.2320\n",
      "Epoch [8/20], Step [10/10], Loss: 0.2954\n",
      "Epoch [9/20], Step [10/10], Loss: 0.1690\n",
      "Epoch [10/20], Step [10/10], Loss: 0.1461\n",
      "Epoch [11/20], Step [10/10], Loss: 0.2605\n",
      "Epoch [12/20], Step [10/10], Loss: 0.2039\n",
      "Epoch [13/20], Step [10/10], Loss: 0.1622\n",
      "Epoch [14/20], Step [10/10], Loss: 0.2336\n",
      "Epoch [15/20], Step [10/10], Loss: 0.1170\n",
      "Epoch [16/20], Step [10/10], Loss: 0.2691\n",
      "Epoch [17/20], Step [10/10], Loss: 0.2287\n",
      "Epoch [18/20], Step [10/10], Loss: 0.1191\n",
      "Epoch [19/20], Step [10/10], Loss: 0.2638\n",
      "Epoch [20/20], Step [10/10], Loss: 0.1368\n"
     ]
    }
   ],
   "source": [
    "# Train step:\n",
    "total_step = len(train_loader)\n",
    "for epoch in range(num_epochs):\n",
    "    for i, (sample, labels) in enumerate(train_loader):\n",
    "        # Move tensors to the configured device\n",
    "        sample = sample.to(device)\n",
    "        labels = labels.to(device)\n",
    "\n",
    "        # Forward pass\n",
    "        outputs = model(sample)\n",
    "        loss = criterion(outputs, labels)\n",
    "\n",
    "        # Backward and optimize\n",
    "        optimizer.zero_grad()\n",
    "        loss.backward()\n",
    "        optimizer.step()\n",
    "\n",
    "        if (i + 1) % batch_size == 0:\n",
    "            print('Epoch [{}/{}], Step [{}/{}], Loss: {:.4f}'\n",
    "                  .format(epoch + 1, num_epochs, i + 1, total_step, loss.item()))"
   ]
  },
  {
   "cell_type": "code",
   "execution_count": 18,
   "metadata": {},
   "outputs": [
    {
     "name": "stdout",
     "output_type": "stream",
     "text": [
      "Accuracy of the network: 98.0 %\n"
     ]
    }
   ],
   "source": [
    "with torch.no_grad():\n",
    "    correct = 0\n",
    "    total = 0\n",
    "    for _, (sample, labels) in enumerate(test_loader):\n",
    "        sample = sample.to(device)\n",
    "        labels = labels.to(device)\n",
    "        outputs = model(sample)\n",
    "        predicted = torch.argmax(outputs.data, 1)\n",
    "        total += labels.size(0)\n",
    "        correct += (predicted == labels).sum().item()\n",
    "\n",
    "    print('Accuracy of the network: {} %'.format(100 * correct / total))"
   ]
  },
  {
   "cell_type": "code",
   "execution_count": 19,
   "metadata": {},
   "outputs": [
    {
     "data": {
      "image/png": "[encoded data removed]",
      "text/plain": [
       "<Figure size 432x288 with 1 Axes>"
      ]
     },
     "metadata": {},
     "output_type": "display_data"
    }
   ],
   "source": [
    "X = np.vstack((X_train,X_test))\n",
    "y = np.hstack((y_train['label'],y_test['label']))\n",
    "\n",
    "def plot_decision_regions(X, y, classifier, test_idx=None, resolution=0.02):\n",
    "    markers = ('s', 'x', 'o', '^', 'v')\n",
    "    colors = ('red', 'blue', 'lightgreen', 'gray', 'cyan')\n",
    "    cmap = ListedColormap(colors[:len(np.unique(y))])\n",
    "    # plot the decision surface\n",
    "    \n",
    "    x1_min, x1_max = X[:, 0].min() - 1, X[:, 0].max() + 1\n",
    "    x2_min, x2_max = X[:, 1].min() - 1, X[:, 1].max() + 1\n",
    "    \n",
    "    xx1, xx2 = np.meshgrid(np.arange(x1_min, x1_max, resolution), np.arange(x2_min, x2_max, resolution))\n",
    "    inp = torch.from_numpy(np.array([xx1.ravel(), xx2.ravel()]).T).float()\n",
    "    Z = classifier(inp)\n",
    "    Z= torch.argmax(Z.data,dim=1)\n",
    "    Z = Z.reshape(xx1.shape)\n",
    "    Z=Z.numpy()\n",
    "    plt.contourf(xx1, xx2, Z, alpha=0.4, cmap=cmap)\n",
    "    plt.xlim(xx1.min(), xx1.max())\n",
    "    plt.ylim(xx2.min(), xx2.max())\n",
    "    \n",
    "# plot class samples\n",
    "    for idx, cl in enumerate(np.unique(y)):\n",
    "        plt.scatter(x=X[y == cl, 0],y=X[y == cl, 1],alpha=1,\n",
    "                c=colors[idx], marker=markers[idx],\n",
    "                label=cl, edgecolor='black')\n",
    "\n",
    "    # highlight test samples\n",
    "    if test_idx:\n",
    "        X_test, y_test = X[test_idx, :], y[test_idx]\n",
    "        plt.scatter(X_test[:, 0], X_test[:, 1],\n",
    "                c='', edgecolor='black', alpha=1,\n",
    "                linewidth=1, marker='o',\n",
    "                s=100, label='test set')\n",
    "        \n",
    "plot_decision_regions(X, y, classifier=model, test_idx=range(105,150))\n",
    "plt.xlabel('Feature 1')\n",
    "plt.ylabel('Feature 2')\n",
    "plt.legend(loc='upper left')\n",
    "plt.title('Decision regions/ Accuracy:{:.2f}%'.format(100 * correct / total))\n",
    "plt.show()"
   ]
  },
  {
   "cell_type": "code",
   "execution_count": 22,
   "metadata": {},
   "outputs": [],
   "source": [
    "torch.save(model.state_dict(),'net.ckpt')"
   ]
  }
 ],
 "metadata": {
  "kernelspec": {
   "display_name": "Python 3",
   "language": "python",
   "name": "python3"
  },
  "language_info": {
   "codemirror_mode": {
    "name": "ipython",
    "version": 3
   },
   "file_extension": ".py",
   "mimetype": "text/x-python",
   "name": "python",
   "nbconvert_exporter": "python",
   "pygments_lexer": "ipython3",
   "version": "3.6.5"
  }
 },
 "nbformat": 4,
 "nbformat_minor": 2
}

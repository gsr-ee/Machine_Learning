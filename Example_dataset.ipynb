{
 "cells": [
  {
   "cell_type": "markdown",
   "metadata": {},
   "source": [
    "Part of this code was referenced from Python Machine Learning, 2nd edition, Raschka,Sebastian et all."
   ]
  },
  {
   "cell_type": "markdown",
   "metadata": {},
   "source": [
    "Part of this code was referenced from Yunjey Pytorch's Tutorials: https://github.com/yunjey/pytorch-tutorial."
   ]
  },
  {
   "cell_type": "code",
   "execution_count": 69,
   "metadata": {},
   "outputs": [],
   "source": [
    "import torch\n",
    "import torch.nn as nn\n",
    "from torch.utils.data import Dataset,DataLoader\n",
    "import pandas as pd\n",
    "import matplotlib.pyplot as plt\n",
    "import numpy as np\n",
    "from sklearn.model_selection import train_test_split\n",
    "from matplotlib.colors import ListedColormap"
   ]
  },
  {
   "cell_type": "code",
   "execution_count": 12,
   "metadata": {},
   "outputs": [
    {
     "data": {
      "image/png": "[encoded data removed]",
      "text/plain": [
       "<Figure size 432x288 with 1 Axes>"
      ]
     },
     "metadata": {},
     "output_type": "display_data"
    }
   ],
   "source": [
    "np.random.seed(1)\n",
    "X_xor = np.random.randn(200, 2)\n",
    "y_xor = np.logical_xor(X_xor[:, 0] > 0, X_xor[:, 1] > 0)\n",
    "y_xor = np.where(y_xor, 0, 1)\n",
    "plt.scatter(X_xor[y_xor == 0, 0], X_xor[y_xor == 0, 1], c='b', marker='x',label='0')\n",
    "plt.scatter(X_xor[y_xor == 1, 0], X_xor[y_xor == 1, 1],c='r',marker='s',label='1')\n",
    "plt.xlim([-4, 4])\n",
    "plt.ylim([-4, 4])\n",
    "plt.legend(loc='best')\n",
    "plt.show()"
   ]
  },
  {
   "cell_type": "code",
   "execution_count": 13,
   "metadata": {},
   "outputs": [],
   "source": [
    "X_train, X_test, y_train, y_test = train_test_split(X_xor, y_xor, test_size=0.25, random_state=None, shuffle=True)\n",
    "X_train = pd.DataFrame(X_train,columns=['x','y'])\n",
    "y_train = pd.DataFrame(y_train,columns=['label'])\n",
    "train_data = pd.concat([X_train,y_train],1)\n",
    "X_test = pd.DataFrame(X_test,columns=['x','y'])\n",
    "y_test = pd.DataFrame(y_test,columns=['label'])\n",
    "test_data = pd.concat([X_test,y_test],1)\n",
    "\n",
    "train_data.to_json('data/train_data.json',orient='index')\n",
    "test_data.to_json('data/test_data.json',orient='index')"
   ]
  },
  {
   "cell_type": "code",
   "execution_count": 14,
   "metadata": {},
   "outputs": [],
   "source": [
    "class Random_Dataset(Dataset):\n",
    "\n",
    "    def __init__(self, json_file, transform=None):\n",
    "        self.data = pd.read_json(json_file).transpose()\n",
    "        self.transform = transform\n",
    "\n",
    "    def __len__(self):\n",
    "        return len(self.data)\n",
    "\n",
    "    def __getitem__(self, idx):\n",
    "        X = np.array([self.data['x'][idx], self.data['y'][idx]])\n",
    "        label = np.array(self.data['label'][idx])\n",
    "\n",
    "        sample = {'sample': X, 'label': label}\n",
    "\n",
    "        if self.transform:\n",
    "            sample = self.transform(sample)\n",
    "\n",
    "        return sample\n",
    "\n",
    "\n",
    "class ToTensor(object):\n",
    "    \"\"\"Convert ndarrays in sample to Tensors.\"\"\"\n",
    "\n",
    "    def __call__(self, sample):\n",
    "        X, label = sample['sample'], sample['label']\n",
    "        return (torch.from_numpy(X).float(),\n",
    "                torch.from_numpy(np.array(label)).long())"
   ]
  },
  {
   "cell_type": "code",
   "execution_count": 53,
   "metadata": {},
   "outputs": [],
   "source": [
    "batch_size=5\n",
    "input_size=2\n",
    "hidden_size=10\n",
    "num_classes=2\n",
    "num_epochs=20\n",
    "learning_rate=0.01"
   ]
  },
  {
   "cell_type": "code",
   "execution_count": 54,
   "metadata": {},
   "outputs": [],
   "source": [
    "device = torch.device('cpu')"
   ]
  },
  {
   "cell_type": "code",
   "execution_count": 55,
   "metadata": {},
   "outputs": [],
   "source": [
    "train_set = Random_Dataset(json_file='data/train_data.json',transform=ToTensor())\n",
    "\n",
    "test_set = Random_Dataset(json_file='data/test_data.json',transform=ToTensor())"
   ]
  },
  {
   "cell_type": "code",
   "execution_count": 56,
   "metadata": {},
   "outputs": [],
   "source": [
    "train_loader = DataLoader(dataset=train_set, shuffle=True, batch_size=batch_size,num_workers=4)\n",
    "\n",
    "test_loader = DataLoader(dataset=test_set, shuffle=False, batch_size=batch_size)"
   ]
  },
  {
   "cell_type": "code",
   "execution_count": 57,
   "metadata": {},
   "outputs": [],
   "source": [
    "class NeuralNet(nn.Module):\n",
    "    def __init__(self, input_size, hidden_size, num_classes):\n",
    "        super(NeuralNet, self).__init__()\n",
    "        self.fc1 = nn.Linear(input_size, 2*hidden_size)\n",
    "        self.activation = nn.Sigmoid()\n",
    "        self.fc2 = nn.Linear(2*hidden_size, hidden_size)\n",
    "        self.fc3 = nn.Linear(hidden_size, num_classes)\n",
    "\n",
    "    def forward(self, x):\n",
    "        out = self.fc1(x)\n",
    "        out = self.activation(out)\n",
    "        out = self.fc2(out)\n",
    "        out = self.activation(out)\n",
    "        out = self.fc3(out)\n",
    "        return out"
   ]
  },
  {
   "cell_type": "code",
   "execution_count": 58,
   "metadata": {},
   "outputs": [],
   "source": [
    "model = NeuralNet(input_size,hidden_size,num_classes).to(device)"
   ]
  },
  {
   "cell_type": "code",
   "execution_count": 59,
   "metadata": {},
   "outputs": [],
   "source": [
    "criterion = nn.CrossEntropyLoss()\n",
    "optimizer = torch.optim.Adam(model.parameters(), lr=learning_rate)"
   ]
  },
  {
   "cell_type": "code",
   "execution_count": 62,
   "metadata": {},
   "outputs": [
    {
     "name": "stdout",
     "output_type": "stream",
     "text": [
      "Epoch [1/20], Step [5/30], Loss: 0.2676\n",
      "Epoch [1/20], Step [10/30], Loss: 0.3627\n",
      "Epoch [1/20], Step [15/30], Loss: 0.5771\n",
      "Epoch [1/20], Step [20/30], Loss: 0.5667\n",
      "Epoch [1/20], Step [25/30], Loss: 0.3104\n",
      "Epoch [1/20], Step [30/30], Loss: 0.6696\n",
      "Epoch [2/20], Step [5/30], Loss: 0.5517\n",
      "Epoch [2/20], Step [10/30], Loss: 0.5056\n",
      "Epoch [2/20], Step [15/30], Loss: 0.3807\n",
      "Epoch [2/20], Step [20/30], Loss: 0.3659\n",
      "Epoch [2/20], Step [25/30], Loss: 0.3079\n",
      "Epoch [2/20], Step [30/30], Loss: 0.2336\n",
      "Epoch [3/20], Step [5/30], Loss: 0.4810\n",
      "Epoch [3/20], Step [10/30], Loss: 0.6642\n",
      "Epoch [3/20], Step [15/30], Loss: 0.3015\n",
      "Epoch [3/20], Step [20/30], Loss: 0.6703\n",
      "Epoch [3/20], Step [25/30], Loss: 0.2865\n",
      "Epoch [3/20], Step [30/30], Loss: 0.3418\n",
      "Epoch [4/20], Step [5/30], Loss: 0.4415\n",
      "Epoch [4/20], Step [10/30], Loss: 0.2021\n",
      "Epoch [4/20], Step [15/30], Loss: 0.5010\n",
      "Epoch [4/20], Step [20/30], Loss: 0.1780\n",
      "Epoch [4/20], Step [25/30], Loss: 0.2381\n",
      "Epoch [4/20], Step [30/30], Loss: 0.3324\n",
      "Epoch [5/20], Step [5/30], Loss: 0.2670\n",
      "Epoch [5/20], Step [10/30], Loss: 0.4505\n",
      "Epoch [5/20], Step [15/30], Loss: 0.2175\n",
      "Epoch [5/20], Step [20/30], Loss: 0.3435\n",
      "Epoch [5/20], Step [25/30], Loss: 0.3833\n",
      "Epoch [5/20], Step [30/30], Loss: 0.3769\n",
      "Epoch [6/20], Step [5/30], Loss: 0.2194\n",
      "Epoch [6/20], Step [10/30], Loss: 0.5505\n",
      "Epoch [6/20], Step [15/30], Loss: 0.1976\n",
      "Epoch [6/20], Step [20/30], Loss: 0.2902\n",
      "Epoch [6/20], Step [25/30], Loss: 0.0401\n",
      "Epoch [6/20], Step [30/30], Loss: 0.3389\n",
      "Epoch [7/20], Step [5/30], Loss: 0.3115\n",
      "Epoch [7/20], Step [10/30], Loss: 0.1722\n",
      "Epoch [7/20], Step [15/30], Loss: 0.2908\n",
      "Epoch [7/20], Step [20/30], Loss: 0.4079\n",
      "Epoch [7/20], Step [25/30], Loss: 0.1348\n",
      "Epoch [7/20], Step [30/30], Loss: 0.3558\n",
      "Epoch [8/20], Step [5/30], Loss: 0.2299\n",
      "Epoch [8/20], Step [10/30], Loss: 0.3770\n",
      "Epoch [8/20], Step [15/30], Loss: 0.2888\n",
      "Epoch [8/20], Step [20/30], Loss: 0.3024\n",
      "Epoch [8/20], Step [25/30], Loss: 0.2995\n",
      "Epoch [8/20], Step [30/30], Loss: 0.2313\n",
      "Epoch [9/20], Step [5/30], Loss: 0.1948\n",
      "Epoch [9/20], Step [10/30], Loss: 0.2547\n",
      "Epoch [9/20], Step [15/30], Loss: 0.2895\n",
      "Epoch [9/20], Step [20/30], Loss: 0.0756\n",
      "Epoch [9/20], Step [25/30], Loss: 0.0444\n",
      "Epoch [9/20], Step [30/30], Loss: 0.3085\n",
      "Epoch [10/20], Step [5/30], Loss: 0.1255\n",
      "Epoch [10/20], Step [10/30], Loss: 0.0952\n",
      "Epoch [10/20], Step [15/30], Loss: 0.3979\n",
      "Epoch [10/20], Step [20/30], Loss: 0.0974\n",
      "Epoch [10/20], Step [25/30], Loss: 0.1814\n",
      "Epoch [10/20], Step [30/30], Loss: 0.2143\n",
      "Epoch [11/20], Step [5/30], Loss: 0.2228\n",
      "Epoch [11/20], Step [10/30], Loss: 0.2199\n",
      "Epoch [11/20], Step [15/30], Loss: 0.2618\n",
      "Epoch [11/20], Step [20/30], Loss: 0.2897\n",
      "Epoch [11/20], Step [25/30], Loss: 0.1430\n",
      "Epoch [11/20], Step [30/30], Loss: 0.2470\n",
      "Epoch [12/20], Step [5/30], Loss: 0.1133\n",
      "Epoch [12/20], Step [10/30], Loss: 0.1165\n",
      "Epoch [12/20], Step [15/30], Loss: 0.2092\n",
      "Epoch [12/20], Step [20/30], Loss: 0.1076\n",
      "Epoch [12/20], Step [25/30], Loss: 0.0781\n",
      "Epoch [12/20], Step [30/30], Loss: 0.0873\n",
      "Epoch [13/20], Step [5/30], Loss: 0.2884\n",
      "Epoch [13/20], Step [10/30], Loss: 0.0562\n",
      "Epoch [13/20], Step [15/30], Loss: 0.0561\n",
      "Epoch [13/20], Step [20/30], Loss: 0.2842\n",
      "Epoch [13/20], Step [25/30], Loss: 0.0530\n",
      "Epoch [13/20], Step [30/30], Loss: 0.4470\n",
      "Epoch [14/20], Step [5/30], Loss: 0.1417\n",
      "Epoch [14/20], Step [10/30], Loss: 0.1980\n",
      "Epoch [14/20], Step [15/30], Loss: 0.2196\n",
      "Epoch [14/20], Step [20/30], Loss: 0.0678\n",
      "Epoch [14/20], Step [25/30], Loss: 0.1258\n",
      "Epoch [14/20], Step [30/30], Loss: 0.2312\n",
      "Epoch [15/20], Step [5/30], Loss: 0.1303\n",
      "Epoch [15/20], Step [10/30], Loss: 0.1686\n",
      "Epoch [15/20], Step [15/30], Loss: 0.1106\n",
      "Epoch [15/20], Step [20/30], Loss: 0.0439\n",
      "Epoch [15/20], Step [25/30], Loss: 0.2458\n",
      "Epoch [15/20], Step [30/30], Loss: 0.2145\n",
      "Epoch [16/20], Step [5/30], Loss: 0.2841\n",
      "Epoch [16/20], Step [10/30], Loss: 0.0271\n",
      "Epoch [16/20], Step [15/30], Loss: 0.1503\n",
      "Epoch [16/20], Step [20/30], Loss: 0.1006\n",
      "Epoch [16/20], Step [25/30], Loss: 0.0987\n",
      "Epoch [16/20], Step [30/30], Loss: 0.0254\n",
      "Epoch [17/20], Step [5/30], Loss: 0.0632\n",
      "Epoch [17/20], Step [10/30], Loss: 0.0436\n",
      "Epoch [17/20], Step [15/30], Loss: 0.2046\n",
      "Epoch [17/20], Step [20/30], Loss: 0.1834\n",
      "Epoch [17/20], Step [25/30], Loss: 0.0349\n",
      "Epoch [17/20], Step [30/30], Loss: 0.0792\n",
      "Epoch [18/20], Step [5/30], Loss: 0.0703\n",
      "Epoch [18/20], Step [10/30], Loss: 0.0504\n",
      "Epoch [18/20], Step [15/30], Loss: 0.0442\n",
      "Epoch [18/20], Step [20/30], Loss: 0.0275\n",
      "Epoch [18/20], Step [25/30], Loss: 0.4054\n",
      "Epoch [18/20], Step [30/30], Loss: 0.0612\n",
      "Epoch [19/20], Step [5/30], Loss: 0.1094\n",
      "Epoch [19/20], Step [10/30], Loss: 0.1179\n",
      "Epoch [19/20], Step [15/30], Loss: 0.0500\n",
      "Epoch [19/20], Step [20/30], Loss: 0.0376\n",
      "Epoch [19/20], Step [25/30], Loss: 0.2722\n",
      "Epoch [19/20], Step [30/30], Loss: 0.0494\n",
      "Epoch [20/20], Step [5/30], Loss: 0.0211\n",
      "Epoch [20/20], Step [10/30], Loss: 0.2366\n",
      "Epoch [20/20], Step [15/30], Loss: 0.1237\n",
      "Epoch [20/20], Step [20/30], Loss: 0.0160\n",
      "Epoch [20/20], Step [25/30], Loss: 0.0296\n",
      "Epoch [20/20], Step [30/30], Loss: 0.0757\n"
     ]
    }
   ],
   "source": [
    "total_step = len(train_loader)\n",
    "for epoch in range(num_epochs):\n",
    "    for i, (sample, labels) in enumerate(train_loader):\n",
    "        # Move tensors to the configured device\n",
    "        sample = sample.to(device)\n",
    "        labels = labels.to(device)\n",
    "\n",
    "        # Forward pass\n",
    "        outputs = model(sample)\n",
    "        loss = criterion(outputs, labels)\n",
    "\n",
    "        # Backward and optimize\n",
    "        optimizer.zero_grad()\n",
    "        loss.backward()\n",
    "        optimizer.step()\n",
    "\n",
    "        if (i + 1) % batch_size == 0:\n",
    "            print('Epoch [{}/{}], Step [{}/{}], Loss: {:.4f}'\n",
    "                  .format(epoch + 1, num_epochs, i + 1, total_step, loss.item()))"
   ]
  },
  {
   "cell_type": "code",
   "execution_count": 63,
   "metadata": {},
   "outputs": [
    {
     "name": "stdout",
     "output_type": "stream",
     "text": [
      "Accuracy of the network: 98.0 %\n"
     ]
    }
   ],
   "source": [
    "with torch.no_grad():\n",
    "    correct = 0\n",
    "    total = 0\n",
    "    for _, (sample, labels) in enumerate(test_loader):\n",
    "        sample = sample.to(device)\n",
    "        labels = labels.to(device)\n",
    "        outputs = model(sample)\n",
    "        predicted = torch.argmax(outputs.data, 1)\n",
    "        total += labels.size(0)\n",
    "        correct += (predicted == labels).sum().item()\n",
    "\n",
    "    print('Accuracy of the network: {} %'.format(100 * correct / total))"
   ]
  },
  {
   "cell_type": "code",
   "execution_count": 67,
   "metadata": {},
   "outputs": [
    {
     "data": {
      "image/png": "[encoded data removed]",
      "text/plain": [
       "<Figure size 432x288 with 1 Axes>"
      ]
     },
     "metadata": {},
     "output_type": "display_data"
    }
   ],
   "source": [
    "X = np.vstack((X_train,X_test))\n",
    "y = np.hstack((y_train['label'],y_test['label']))\n",
    "\n",
    "def plot_decision_regions(X, y, classifier, test_idx=None, resolution=0.02):\n",
    "    markers = ('s', 'x', 'o', '^', 'v')\n",
    "    colors = ('red', 'blue', 'lightgreen', 'gray', 'cyan')\n",
    "    cmap = ListedColormap(colors[:len(np.unique(y))])\n",
    "    # plot the decision surface\n",
    "    x1_min, x1_max = X[:, 0].min() - 1, X[:, 0].max() + 1\n",
    "    x2_min, x2_max = X[:, 1].min() - 1, X[:, 1].max() + 1\n",
    "    xx1, xx2 = np.meshgrid(np.arange(x1_min, x1_max, resolution), np.arange(x2_min, x2_max, resolution))\n",
    "    inp = torch.from_numpy(np.array([xx1.ravel(), xx2.ravel()]).T).float()\n",
    "    Z = classifier(inp)\n",
    "    Z= torch.argmax(Z.data,dim=1)\n",
    "    Z = Z.reshape(xx1.shape)\n",
    "    Z=Z.numpy()\n",
    "    plt.contourf(xx1, xx2, Z, alpha=0.4, cmap=cmap)\n",
    "    plt.xlim(xx1.min(), xx1.max())\n",
    "    plt.ylim(xx2.min(), xx2.max())\n",
    "# plot class samples\n",
    "    for idx, cl in enumerate(np.unique(y)):\n",
    "        plt.scatter(x=X[y == cl, 0],y=X[y == cl, 1],alpha=1,\n",
    "                c=colors[idx], marker=markers[idx],\n",
    "                label=cl, edgecolor='black')\n",
    "\n",
    "    # highlight test samples\n",
    "    if test_idx:\n",
    "        X_test, y_test = X[test_idx, :], y[test_idx]\n",
    "        plt.scatter(X_test[:, 0], X_test[:, 1],\n",
    "                c='', edgecolor='black', alpha=1,\n",
    "                linewidth=1, marker='o',\n",
    "                s=100, label='test set')\n",
    "plot_decision_regions(X, y, classifier=model, test_idx=range(105,150))\n",
    "plt.xlabel('Feature 1')\n",
    "plt.ylabel('Feature 2')\n",
    "plt.legend(loc='upper left')\n",
    "plt.title('Decision regions/ Accuracy:{:.2f}%'.format(100 * correct / total))\n",
    "plt.show()"
   ]
  },
  {
   "cell_type": "code",
   "execution_count": 68,
   "metadata": {},
   "outputs": [],
   "source": [
    "torch.save(model.state_dict(),'model.ckpt')"
   ]
  }
 ],
 "metadata": {
  "kernelspec": {
   "display_name": "Python 3",
   "language": "python",
   "name": "python3"
  },
  "language_info": {
   "codemirror_mode": {
    "name": "ipython",
    "version": 3
   },
   "file_extension": ".py",
   "mimetype": "text/x-python",
   "name": "python",
   "nbconvert_exporter": "python",
   "pygments_lexer": "ipython3",
   "version": "3.6.5"
  }
 },
 "nbformat": 4,
 "nbformat_minor": 2
}
